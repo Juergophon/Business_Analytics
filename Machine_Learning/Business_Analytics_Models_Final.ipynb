{
 "cells": [
  {
   "cell_type": "heading",
   "metadata": {
    "id": "yhPOl-SrRtOz",
    "colab_type": "text"
   },
   "level": 1,
   "source": [
    "# Business Analytics Models"
   ]
  },
  {
   "cell_type": "code",
   "execution_count": 0,
   "metadata": {
    "id": "zGo4yYStR0fI",
    "colab_type": "code",
    "outputId": "2c0a2845-0fea-4c00-fb58-76e443d0e9fb",
    "executionInfo": {
     "status": "ok",
     "timestamp": 1.560848124582E12,
     "user_tz": -120.0,
     "elapsed": 996.0,
     "user": {
      "displayName": "Jay Key",
      "photoUrl": "",
      "userId": "13340831650464398294"
     }
    },
    "colab": {
     "base_uri": "https://localhost:8080/",
     "height": 101.0
    }
   },
   "outputs": [
    {
     "name": "stdout",
     "output_type": "stream",
     "text": [
      "Drive already mounted at /content/gdrive; to attempt to forcibly remount, call drive.mount(\"/content/gdrive\", force_remount=True).\n"
     ]
    }
   ],
   "source": [
    "from google.colab import drive\n",
    "drive.mount('/content/gdrive')"
   ]
  },
  {
   "cell_type": "heading",
   "metadata": {
    "id": "nwHihmeiR1li",
    "colab_type": "text"
   },
   "level": 2,
   "source": [
    "## Import Packages & Set global variables"
   ]
  },
  {
   "cell_type": "code",
   "execution_count": 0,
   "metadata": {
    "id": "bvky0fgFR8q8",
    "colab_type": "code",
    "colab": {}
   },
   "outputs": [],
   "source": [
    "import warnings\n",
    "import numpy as np\n",
    "import pandas as pd\n",
    "import datetime as dt\n",
    "import matplotlib.pyplot as plt\n",
    "from keras import optimizers\n",
    "from keras.utils import plot_model\n",
    "from keras.models import Sequential, Model\n",
    "from sklearn.model_selection import KFold\n",
    "from sklearn import preprocessing\n",
    "from keras.layers import Dense, LSTM, RepeatVector, TimeDistributed\n",
    "from sklearn.metrics import mean_squared_error\n",
    "from sklearn.model_selection import train_test_split\n",
    "from sklearn.preprocessing import MinMaxScaler, StandardScaler, RobustScaler\n",
    "from sklearn.metrics import mean_absolute_error\n",
    "\n",
    "%matplotlib inline\n",
    "pd.set_option('display.float_format', lambda x: '%.4f' % x)\n",
    "warnings.filterwarnings(\"ignore\")\n",
    "\n",
    "# Setting seeds to make the project more reproducible.\n",
    "from numpy.random import seed\n",
    "seed(0)\n",
    "from tensorflow import set_random_seed\n",
    "set_random_seed(0)\n",
    "\n",
    "from sklearn.ensemble import RandomForestRegressor\n",
    "import seaborn as sns; sns.set(style=\"ticks\", color_codes=True)"
   ]
  },
  {
   "cell_type": "heading",
   "metadata": {
    "id": "6qPW4IwGSHX1",
    "colab_type": "text"
   },
   "level": 1,
   "source": [
    "## Data import"
   ]
  },
  {
   "cell_type": "code",
   "execution_count": 0,
   "metadata": {
    "id": "-SdJPRYYSI62",
    "colab_type": "code",
    "colab": {}
   },
   "outputs": [],
   "source": [
    "# read data\n",
    "train = pd.read_csv(\"/content/gdrive/My Drive/Colab Notebooks/Business_Analytics/train.csv\",sep=',', header=0)\n",
    "features = pd.read_csv(\"/content/gdrive/My Drive/Colab Notebooks/Business_Analytics/features.csv\",sep=',', header=0).drop(columns=['IsHoliday'])\n",
    "stores = pd.read_csv(\"/content/gdrive/My Drive/Colab Notebooks/Business_Analytics/stores.csv\",sep=',', header=0)\n",
    "\n",
    "# merge the different files into one dataset to work with\n",
    "dataset = train.merge(stores, how='left').merge(features, how='left')\n",
    "dataset = dataset[['Weekly_Sales','Store', 'Dept', 'Date', 'IsHoliday', 'Type', 'Size', 'Temperature', 'Fuel_Price',\n",
    "                   'MarkDown1', 'MarkDown2', 'MarkDown3', 'MarkDown4', 'MarkDown5', 'CPI', 'Unemployment']]"
   ]
  },
  {
   "cell_type": "heading",
   "metadata": {
    "id": "PL_a-JOBSAG1",
    "colab_type": "text"
   },
   "level": 1,
   "source": [
    "## Preprocessing"
   ]
  },
  {
   "cell_type": "heading",
   "metadata": {
    "id": "MMcqqBfxSwRv",
    "colab_type": "text"
   },
   "level": 3,
   "source": [
    "### General preprocessing"
   ]
  },
  {
   "cell_type": "heading",
   "metadata": {
    "id": "ECfOLGO6XUfI",
    "colab_type": "text"
   },
   "level": 4,
   "source": [
    "Overview before preprocessing"
   ]
  },
  {
   "cell_type": "code",
   "execution_count": 0,
   "metadata": {
    "id": "OXawsfnMXT4u",
    "colab_type": "code",
    "outputId": "2d0b4e3f-0b07-4c38-ecb7-83e9931da232",
    "executionInfo": {
     "status": "ok",
     "timestamp": 1.560857572526E12,
     "user_tz": -120.0,
     "elapsed": 480.0,
     "user": {
      "displayName": "Jay Key",
      "photoUrl": "",
      "userId": "13340831650464398294"
     }
    },
    "colab": {
     "base_uri": "https://localhost:8080/",
     "height": 360.0
    }
   },
   "outputs": [
    {
     "data": {
      "text/html": [
       "<div>\n",
       "<style scoped>\n",
       "    .dataframe tbody tr th:only-of-type {\n",
       "        vertical-align: middle;\n",
       "    }\n",
       "\n",
       "    .dataframe tbody tr th {\n",
       "        vertical-align: top;\n",
       "    }\n",
       "\n",
       "    .dataframe thead th {\n",
       "        text-align: right;\n",
       "    }\n",
       "</style>\n",
       "<table border=\"1\" class=\"dataframe\">\n",
       "  <thead>\n",
       "    <tr style=\"text-align: right;\">\n",
       "      <th></th>\n",
       "      <th>Weekly_Sales</th>\n",
       "      <th>Store</th>\n",
       "      <th>Dept</th>\n",
       "      <th>Date</th>\n",
       "      <th>IsHoliday</th>\n",
       "      <th>Type</th>\n",
       "      <th>Size</th>\n",
       "      <th>Temperature</th>\n",
       "      <th>Fuel_Price</th>\n",
       "      <th>MarkDown1</th>\n",
       "      <th>MarkDown2</th>\n",
       "      <th>MarkDown3</th>\n",
       "      <th>MarkDown4</th>\n",
       "      <th>MarkDown5</th>\n",
       "      <th>CPI</th>\n",
       "      <th>Unemployment</th>\n",
       "    </tr>\n",
       "  </thead>\n",
       "  <tbody>\n",
       "    <tr>\n",
       "      <th>0</th>\n",
       "      <td>24924.5000</td>\n",
       "      <td>1</td>\n",
       "      <td>1</td>\n",
       "      <td>2010-02-05</td>\n",
       "      <td>False</td>\n",
       "      <td>A</td>\n",
       "      <td>151315</td>\n",
       "      <td>42.3100</td>\n",
       "      <td>2.5720</td>\n",
       "      <td>nan</td>\n",
       "      <td>nan</td>\n",
       "      <td>nan</td>\n",
       "      <td>nan</td>\n",
       "      <td>nan</td>\n",
       "      <td>211.0964</td>\n",
       "      <td>8.1060</td>\n",
       "    </tr>\n",
       "    <tr>\n",
       "      <th>1</th>\n",
       "      <td>46039.4900</td>\n",
       "      <td>1</td>\n",
       "      <td>1</td>\n",
       "      <td>2010-02-12</td>\n",
       "      <td>True</td>\n",
       "      <td>A</td>\n",
       "      <td>151315</td>\n",
       "      <td>38.5100</td>\n",
       "      <td>2.5480</td>\n",
       "      <td>nan</td>\n",
       "      <td>nan</td>\n",
       "      <td>nan</td>\n",
       "      <td>nan</td>\n",
       "      <td>nan</td>\n",
       "      <td>211.2422</td>\n",
       "      <td>8.1060</td>\n",
       "    </tr>\n",
       "    <tr>\n",
       "      <th>2</th>\n",
       "      <td>41595.5500</td>\n",
       "      <td>1</td>\n",
       "      <td>1</td>\n",
       "      <td>2010-02-19</td>\n",
       "      <td>False</td>\n",
       "      <td>A</td>\n",
       "      <td>151315</td>\n",
       "      <td>39.9300</td>\n",
       "      <td>2.5140</td>\n",
       "      <td>nan</td>\n",
       "      <td>nan</td>\n",
       "      <td>nan</td>\n",
       "      <td>nan</td>\n",
       "      <td>nan</td>\n",
       "      <td>211.2891</td>\n",
       "      <td>8.1060</td>\n",
       "    </tr>\n",
       "    <tr>\n",
       "      <th>3</th>\n",
       "      <td>19403.5400</td>\n",
       "      <td>1</td>\n",
       "      <td>1</td>\n",
       "      <td>2010-02-26</td>\n",
       "      <td>False</td>\n",
       "      <td>A</td>\n",
       "      <td>151315</td>\n",
       "      <td>46.6300</td>\n",
       "      <td>2.5610</td>\n",
       "      <td>nan</td>\n",
       "      <td>nan</td>\n",
       "      <td>nan</td>\n",
       "      <td>nan</td>\n",
       "      <td>nan</td>\n",
       "      <td>211.3196</td>\n",
       "      <td>8.1060</td>\n",
       "    </tr>\n",
       "    <tr>\n",
       "      <th>4</th>\n",
       "      <td>21827.9000</td>\n",
       "      <td>1</td>\n",
       "      <td>1</td>\n",
       "      <td>2010-03-05</td>\n",
       "      <td>False</td>\n",
       "      <td>A</td>\n",
       "      <td>151315</td>\n",
       "      <td>46.5000</td>\n",
       "      <td>2.6250</td>\n",
       "      <td>nan</td>\n",
       "      <td>nan</td>\n",
       "      <td>nan</td>\n",
       "      <td>nan</td>\n",
       "      <td>nan</td>\n",
       "      <td>211.3501</td>\n",
       "      <td>8.1060</td>\n",
       "    </tr>\n",
       "  </tbody>\n",
       "</table>\n",
       "</div>"
      ],
      "text/plain": [
       "   Weekly_Sales  Store  Dept        Date  IsHoliday Type    Size  Temperature  Fuel_Price  MarkDown1  MarkDown2  MarkDown3  MarkDown4  MarkDown5      CPI  Unemployment\n",
       "0    24924.5000      1     1  2010-02-05      False    A  151315      42.3100      2.5720        nan        nan        nan        nan        nan 211.0964        8.1060\n",
       "1    46039.4900      1     1  2010-02-12       True    A  151315      38.5100      2.5480        nan        nan        nan        nan        nan 211.2422        8.1060\n",
       "2    41595.5500      1     1  2010-02-19      False    A  151315      39.9300      2.5140        nan        nan        nan        nan        nan 211.2891        8.1060\n",
       "3    19403.5400      1     1  2010-02-26      False    A  151315      46.6300      2.5610        nan        nan        nan        nan        nan 211.3196        8.1060\n",
       "4    21827.9000      1     1  2010-03-05      False    A  151315      46.5000      2.6250        nan        nan        nan        nan        nan 211.3501        8.1060"
      ]
     },
     "execution_count": 88,
     "metadata": {
      "tags": []
     },
     "output_type": "execute_result"
    }
   ],
   "source": [
    "pd.set_option(\"display.max_columns\", 17)\n",
    "pd.set_option('display.width', 300)\n",
    "\n",
    "dataset.head()\n"
   ]
  },
  {
   "cell_type": "code",
   "execution_count": 89,
   "metadata": {
    "id": "qIx4f6deNCsW",
    "colab_type": "code",
    "colab": {
     "base_uri": "https://localhost:8080/",
     "height": 223.0
    },
    "outputId": "4382f88d-8f3d-4da5-c750-c6efa1291294",
    "executionInfo": {
     "status": "ok",
     "timestamp": 1.560871716278E12,
     "user_tz": -120.0,
     "elapsed": 903.0,
     "user": {
      "displayName": "Jay Key",
      "photoUrl": "",
      "userId": "13340831650464398294"
     }
    }
   },
   "outputs": [
    {
     "name": "stdout",
     "output_type": "stream",
     "text": [
      "\n",
      "        Weekly_Sales       Store        Dept        Size  Temperature  Fuel_Price   MarkDown1   MarkDown2   MarkDown3   MarkDown4   MarkDown5         CPI  Unemployment\n",
      "count   421570.0000 421570.0000 421570.0000 421570.0000  421570.0000 421570.0000 150681.0000 111248.0000 137091.0000 134967.0000 151432.0000 421570.0000   421570.0000\n",
      "mean     15981.2581     22.2005     44.2603 136727.9157      60.0901      3.3610   7246.4202   3334.6286   1439.4214   3383.1683   4628.9751    171.2019        7.9603\n",
      "std      22711.1835     12.7853     30.4921  60980.5833      18.4479      0.4585   8291.2213   9475.3573   9623.0783   6292.3840   5962.8875     39.1593        1.8633\n",
      "min      -4988.9400      1.0000      1.0000  34875.0000      -2.0600      2.4720      0.2700   -265.7600    -29.1000      0.2200    135.1600    126.0640        3.8790\n",
      "25%       2079.6500     11.0000     18.0000  93638.0000      46.6800      2.9330   2240.2700     41.6000      5.0800    504.2200   1878.4400    132.0227        6.8910\n",
      "50%       7612.0300     22.0000     37.0000 140167.0000      62.0900      3.4520   5347.4500    192.0000     24.6000   1481.3100   3359.4500    182.3188        7.8660\n",
      "75%      20205.8525     33.0000     74.0000 202505.0000      74.2800      3.7380   9210.9000   1926.9400    103.9900   3595.0400   5563.8000    212.4170        8.5720\n",
      "max     693099.3600     45.0000     99.0000 219622.0000     100.1400      4.4680  88646.7600 104519.5400 141630.6100  67474.8500 108519.2800    227.2328       14.3130\n"
     ]
    }
   ],
   "source": [
    "print('\\n',dataset.describe())"
   ]
  },
  {
   "cell_type": "heading",
   "metadata": {
    "id": "lO6_VupOXTuU",
    "colab_type": "text"
   },
   "level": 4,
   "source": [
    "encode strings to integer"
   ]
  },
  {
   "cell_type": "code",
   "execution_count": 0,
   "metadata": {
    "id": "vSUy1IVIXTle",
    "colab_type": "code",
    "outputId": "9b6e4f92-9eec-48de-e4af-ac84ed53ef82",
    "executionInfo": {
     "status": "ok",
     "timestamp": 1.5608481262E12,
     "user_tz": -120.0,
     "elapsed": 2544.0,
     "user": {
      "displayName": "Jay Key",
      "photoUrl": "",
      "userId": "13340831650464398294"
     }
    },
    "colab": {
     "base_uri": "https://localhost:8080/",
     "height": 360.0
    }
   },
   "outputs": [
    {
     "data": {
      "text/html": [
       "<div>\n",
       "<style scoped>\n",
       "    .dataframe tbody tr th:only-of-type {\n",
       "        vertical-align: middle;\n",
       "    }\n",
       "\n",
       "    .dataframe tbody tr th {\n",
       "        vertical-align: top;\n",
       "    }\n",
       "\n",
       "    .dataframe thead th {\n",
       "        text-align: right;\n",
       "    }\n",
       "</style>\n",
       "<table border=\"1\" class=\"dataframe\">\n",
       "  <thead>\n",
       "    <tr style=\"text-align: right;\">\n",
       "      <th></th>\n",
       "      <th>Weekly_Sales</th>\n",
       "      <th>Store</th>\n",
       "      <th>Dept</th>\n",
       "      <th>Date</th>\n",
       "      <th>IsHoliday</th>\n",
       "      <th>Type</th>\n",
       "      <th>Size</th>\n",
       "      <th>Temperature</th>\n",
       "      <th>Fuel_Price</th>\n",
       "      <th>MarkDown1</th>\n",
       "      <th>MarkDown2</th>\n",
       "      <th>MarkDown3</th>\n",
       "      <th>MarkDown4</th>\n",
       "      <th>MarkDown5</th>\n",
       "      <th>CPI</th>\n",
       "      <th>Unemployment</th>\n",
       "    </tr>\n",
       "  </thead>\n",
       "  <tbody>\n",
       "    <tr>\n",
       "      <th>0</th>\n",
       "      <td>24924.5000</td>\n",
       "      <td>1</td>\n",
       "      <td>1</td>\n",
       "      <td>2010-02-05</td>\n",
       "      <td>0</td>\n",
       "      <td>0</td>\n",
       "      <td>151315</td>\n",
       "      <td>42.3100</td>\n",
       "      <td>2.5720</td>\n",
       "      <td>nan</td>\n",
       "      <td>nan</td>\n",
       "      <td>nan</td>\n",
       "      <td>nan</td>\n",
       "      <td>nan</td>\n",
       "      <td>211.0964</td>\n",
       "      <td>8.1060</td>\n",
       "    </tr>\n",
       "    <tr>\n",
       "      <th>1</th>\n",
       "      <td>46039.4900</td>\n",
       "      <td>1</td>\n",
       "      <td>1</td>\n",
       "      <td>2010-02-12</td>\n",
       "      <td>1</td>\n",
       "      <td>0</td>\n",
       "      <td>151315</td>\n",
       "      <td>38.5100</td>\n",
       "      <td>2.5480</td>\n",
       "      <td>nan</td>\n",
       "      <td>nan</td>\n",
       "      <td>nan</td>\n",
       "      <td>nan</td>\n",
       "      <td>nan</td>\n",
       "      <td>211.2422</td>\n",
       "      <td>8.1060</td>\n",
       "    </tr>\n",
       "    <tr>\n",
       "      <th>2</th>\n",
       "      <td>41595.5500</td>\n",
       "      <td>1</td>\n",
       "      <td>1</td>\n",
       "      <td>2010-02-19</td>\n",
       "      <td>0</td>\n",
       "      <td>0</td>\n",
       "      <td>151315</td>\n",
       "      <td>39.9300</td>\n",
       "      <td>2.5140</td>\n",
       "      <td>nan</td>\n",
       "      <td>nan</td>\n",
       "      <td>nan</td>\n",
       "      <td>nan</td>\n",
       "      <td>nan</td>\n",
       "      <td>211.2891</td>\n",
       "      <td>8.1060</td>\n",
       "    </tr>\n",
       "    <tr>\n",
       "      <th>3</th>\n",
       "      <td>19403.5400</td>\n",
       "      <td>1</td>\n",
       "      <td>1</td>\n",
       "      <td>2010-02-26</td>\n",
       "      <td>0</td>\n",
       "      <td>0</td>\n",
       "      <td>151315</td>\n",
       "      <td>46.6300</td>\n",
       "      <td>2.5610</td>\n",
       "      <td>nan</td>\n",
       "      <td>nan</td>\n",
       "      <td>nan</td>\n",
       "      <td>nan</td>\n",
       "      <td>nan</td>\n",
       "      <td>211.3196</td>\n",
       "      <td>8.1060</td>\n",
       "    </tr>\n",
       "    <tr>\n",
       "      <th>4</th>\n",
       "      <td>21827.9000</td>\n",
       "      <td>1</td>\n",
       "      <td>1</td>\n",
       "      <td>2010-03-05</td>\n",
       "      <td>0</td>\n",
       "      <td>0</td>\n",
       "      <td>151315</td>\n",
       "      <td>46.5000</td>\n",
       "      <td>2.6250</td>\n",
       "      <td>nan</td>\n",
       "      <td>nan</td>\n",
       "      <td>nan</td>\n",
       "      <td>nan</td>\n",
       "      <td>nan</td>\n",
       "      <td>211.3501</td>\n",
       "      <td>8.1060</td>\n",
       "    </tr>\n",
       "  </tbody>\n",
       "</table>\n",
       "</div>"
      ],
      "text/plain": [
       "   Weekly_Sales  Store  Dept        Date  IsHoliday  Type    Size  Temperature  Fuel_Price  MarkDown1  MarkDown2  MarkDown3  MarkDown4  MarkDown5      CPI  Unemployment\n",
       "0    24924.5000      1     1  2010-02-05          0     0  151315      42.3100      2.5720        nan        nan        nan        nan        nan 211.0964        8.1060\n",
       "1    46039.4900      1     1  2010-02-12          1     0  151315      38.5100      2.5480        nan        nan        nan        nan        nan 211.2422        8.1060\n",
       "2    41595.5500      1     1  2010-02-19          0     0  151315      39.9300      2.5140        nan        nan        nan        nan        nan 211.2891        8.1060\n",
       "3    19403.5400      1     1  2010-02-26          0     0  151315      46.6300      2.5610        nan        nan        nan        nan        nan 211.3196        8.1060\n",
       "4    21827.9000      1     1  2010-03-05          0     0  151315      46.5000      2.6250        nan        nan        nan        nan        nan 211.3501        8.1060"
      ]
     },
     "execution_count": 60,
     "metadata": {
      "tags": []
     },
     "output_type": "execute_result"
    }
   ],
   "source": [
    "cat_col = ['IsHoliday','Type']\n",
    "\n",
    "for col in cat_col:\n",
    "    encoder = preprocessing.LabelEncoder()\n",
    "    encoder.fit(dataset[col].values.astype('str'))\n",
    "    dataset[col] = encoder.transform(dataset[col].values.astype('str'))\n",
    "    \n",
    "dataset.head()"
   ]
  },
  {
   "cell_type": "heading",
   "metadata": {
    "id": "Qrw9Wi-vXTbi",
    "colab_type": "text"
   },
   "level": 4,
   "source": [
    "Replace Nan with 0 in the features"
   ]
  },
  {
   "cell_type": "code",
   "execution_count": 0,
   "metadata": {
    "id": "BsJMD8OnXTSS",
    "colab_type": "code",
    "outputId": "aa3fd6a8-743b-4d30-cb6c-504dd735c57b",
    "executionInfo": {
     "status": "ok",
     "timestamp": 1.560848126202E12,
     "user_tz": -120.0,
     "elapsed": 2524.0,
     "user": {
      "displayName": "Jay Key",
      "photoUrl": "",
      "userId": "13340831650464398294"
     }
    },
    "colab": {
     "base_uri": "https://localhost:8080/",
     "height": 360.0
    }
   },
   "outputs": [
    {
     "data": {
      "text/html": [
       "<div>\n",
       "<style scoped>\n",
       "    .dataframe tbody tr th:only-of-type {\n",
       "        vertical-align: middle;\n",
       "    }\n",
       "\n",
       "    .dataframe tbody tr th {\n",
       "        vertical-align: top;\n",
       "    }\n",
       "\n",
       "    .dataframe thead th {\n",
       "        text-align: right;\n",
       "    }\n",
       "</style>\n",
       "<table border=\"1\" class=\"dataframe\">\n",
       "  <thead>\n",
       "    <tr style=\"text-align: right;\">\n",
       "      <th></th>\n",
       "      <th>Weekly_Sales</th>\n",
       "      <th>Store</th>\n",
       "      <th>Dept</th>\n",
       "      <th>Date</th>\n",
       "      <th>IsHoliday</th>\n",
       "      <th>Type</th>\n",
       "      <th>Size</th>\n",
       "      <th>Temperature</th>\n",
       "      <th>Fuel_Price</th>\n",
       "      <th>MarkDown1</th>\n",
       "      <th>MarkDown2</th>\n",
       "      <th>MarkDown3</th>\n",
       "      <th>MarkDown4</th>\n",
       "      <th>MarkDown5</th>\n",
       "      <th>CPI</th>\n",
       "      <th>Unemployment</th>\n",
       "    </tr>\n",
       "  </thead>\n",
       "  <tbody>\n",
       "    <tr>\n",
       "      <th>0</th>\n",
       "      <td>24924.5000</td>\n",
       "      <td>1</td>\n",
       "      <td>1</td>\n",
       "      <td>2010-02-05</td>\n",
       "      <td>0</td>\n",
       "      <td>0</td>\n",
       "      <td>151315</td>\n",
       "      <td>42.3100</td>\n",
       "      <td>2.5720</td>\n",
       "      <td>0.0000</td>\n",
       "      <td>0.0000</td>\n",
       "      <td>0.0000</td>\n",
       "      <td>0.0000</td>\n",
       "      <td>0.0000</td>\n",
       "      <td>211.0964</td>\n",
       "      <td>8.1060</td>\n",
       "    </tr>\n",
       "    <tr>\n",
       "      <th>1</th>\n",
       "      <td>46039.4900</td>\n",
       "      <td>1</td>\n",
       "      <td>1</td>\n",
       "      <td>2010-02-12</td>\n",
       "      <td>1</td>\n",
       "      <td>0</td>\n",
       "      <td>151315</td>\n",
       "      <td>38.5100</td>\n",
       "      <td>2.5480</td>\n",
       "      <td>0.0000</td>\n",
       "      <td>0.0000</td>\n",
       "      <td>0.0000</td>\n",
       "      <td>0.0000</td>\n",
       "      <td>0.0000</td>\n",
       "      <td>211.2422</td>\n",
       "      <td>8.1060</td>\n",
       "    </tr>\n",
       "    <tr>\n",
       "      <th>2</th>\n",
       "      <td>41595.5500</td>\n",
       "      <td>1</td>\n",
       "      <td>1</td>\n",
       "      <td>2010-02-19</td>\n",
       "      <td>0</td>\n",
       "      <td>0</td>\n",
       "      <td>151315</td>\n",
       "      <td>39.9300</td>\n",
       "      <td>2.5140</td>\n",
       "      <td>0.0000</td>\n",
       "      <td>0.0000</td>\n",
       "      <td>0.0000</td>\n",
       "      <td>0.0000</td>\n",
       "      <td>0.0000</td>\n",
       "      <td>211.2891</td>\n",
       "      <td>8.1060</td>\n",
       "    </tr>\n",
       "    <tr>\n",
       "      <th>3</th>\n",
       "      <td>19403.5400</td>\n",
       "      <td>1</td>\n",
       "      <td>1</td>\n",
       "      <td>2010-02-26</td>\n",
       "      <td>0</td>\n",
       "      <td>0</td>\n",
       "      <td>151315</td>\n",
       "      <td>46.6300</td>\n",
       "      <td>2.5610</td>\n",
       "      <td>0.0000</td>\n",
       "      <td>0.0000</td>\n",
       "      <td>0.0000</td>\n",
       "      <td>0.0000</td>\n",
       "      <td>0.0000</td>\n",
       "      <td>211.3196</td>\n",
       "      <td>8.1060</td>\n",
       "    </tr>\n",
       "    <tr>\n",
       "      <th>4</th>\n",
       "      <td>21827.9000</td>\n",
       "      <td>1</td>\n",
       "      <td>1</td>\n",
       "      <td>2010-03-05</td>\n",
       "      <td>0</td>\n",
       "      <td>0</td>\n",
       "      <td>151315</td>\n",
       "      <td>46.5000</td>\n",
       "      <td>2.6250</td>\n",
       "      <td>0.0000</td>\n",
       "      <td>0.0000</td>\n",
       "      <td>0.0000</td>\n",
       "      <td>0.0000</td>\n",
       "      <td>0.0000</td>\n",
       "      <td>211.3501</td>\n",
       "      <td>8.1060</td>\n",
       "    </tr>\n",
       "  </tbody>\n",
       "</table>\n",
       "</div>"
      ],
      "text/plain": [
       "   Weekly_Sales  Store  Dept        Date  IsHoliday  Type    Size  Temperature  Fuel_Price  MarkDown1  MarkDown2  MarkDown3  MarkDown4  MarkDown5      CPI  Unemployment\n",
       "0    24924.5000      1     1  2010-02-05          0     0  151315      42.3100      2.5720     0.0000     0.0000     0.0000     0.0000     0.0000 211.0964        8.1060\n",
       "1    46039.4900      1     1  2010-02-12          1     0  151315      38.5100      2.5480     0.0000     0.0000     0.0000     0.0000     0.0000 211.2422        8.1060\n",
       "2    41595.5500      1     1  2010-02-19          0     0  151315      39.9300      2.5140     0.0000     0.0000     0.0000     0.0000     0.0000 211.2891        8.1060\n",
       "3    19403.5400      1     1  2010-02-26          0     0  151315      46.6300      2.5610     0.0000     0.0000     0.0000     0.0000     0.0000 211.3196        8.1060\n",
       "4    21827.9000      1     1  2010-03-05          0     0  151315      46.5000      2.6250     0.0000     0.0000     0.0000     0.0000     0.0000 211.3501        8.1060"
      ]
     },
     "execution_count": 61,
     "metadata": {
      "tags": []
     },
     "output_type": "execute_result"
    }
   ],
   "source": [
    "dataset = dataset.fillna(0)\n",
    "dataset.head()"
   ]
  },
  {
   "cell_type": "heading",
   "metadata": {
    "id": "eBufMpwEtDWY",
    "colab_type": "text"
   },
   "level": 4,
   "source": [
    "Remove rows, which contain bad quality data, e.q. negative values in specific columns"
   ]
  },
  {
   "cell_type": "code",
   "execution_count": 0,
   "metadata": {
    "id": "hAdhUncetHnX",
    "colab_type": "code",
    "colab": {}
   },
   "outputs": [],
   "source": [
    "for i in ['Weekly_Sales','MarkDown2','MarkDown3']:\n",
    "    indexNames = dataset[dataset[i] < 0 ].index\n",
    "    dataset.drop(indexNames , inplace=True, axis=0)"
   ]
  },
  {
   "cell_type": "heading",
   "metadata": {
    "id": "UJZA_BCkqio1",
    "colab_type": "text"
   },
   "level": 3,
   "source": [
    "### Time period preprocessing of the dataset"
   ]
  },
  {
   "cell_type": "code",
   "execution_count": 0,
   "metadata": {
    "id": "0bJP1dq8qlsh",
    "colab_type": "code",
    "outputId": "a29f9bbc-7c36-41af-87bd-ed722a9982a1",
    "executionInfo": {
     "status": "ok",
     "timestamp": 1.560848126704E12,
     "user_tz": -120.0,
     "elapsed": 2994.0,
     "user": {
      "displayName": "Jay Key",
      "photoUrl": "",
      "userId": "13340831650464398294"
     }
    },
    "colab": {
     "base_uri": "https://localhost:8080/",
     "height": 133.0
    }
   },
   "outputs": [
    {
     "name": "stdout",
     "output_type": "stream",
     "text": [
      "first date: 2010-02-05 \n",
      "last date: 2012-10-26\n"
     ]
    }
   ],
   "source": [
    "dataset['Date'] = pd.to_datetime(dataset['Date'], format='%Y/%m/%d')\n",
    "dataset['Date'] = dataset['Date'].dt.date\n",
    "first_date = (np.min(dataset['Date']))\n",
    "last_date = (np.max(dataset['Date']))\n",
    "print('first date:',first_date,'\\nlast date:',last_date)"
   ]
  },
  {
   "cell_type": "heading",
   "metadata": {
    "id": "c9yYU-seDGiG",
    "colab_type": "text"
   },
   "level": 4,
   "source": [
    " Only consider the last year to predict the next week. (54 weeks in total) Since there is a lot of missing data in the beginning of the recording."
   ]
  },
  {
   "cell_type": "code",
   "execution_count": 0,
   "metadata": {
    "id": "caYh4yQhDPfh",
    "colab_type": "code",
    "colab": {}
   },
   "outputs": [],
   "source": [
    "one_year = last_date - pd.Timedelta(54, 'w')\n",
    "dataset = dataset.loc[dataset['Date'] > one_year]"
   ]
  },
  {
   "cell_type": "heading",
   "metadata": {
    "id": "I2lO3b7WXS1h",
    "colab_type": "text"
   },
   "level": 4,
   "source": [
    "Creating Time-series of sales by Store and Department using Pivot"
   ]
  },
  {
   "cell_type": "code",
   "execution_count": 0,
   "metadata": {
    "id": "MmyAZ1_sXSsx",
    "colab_type": "code",
    "colab": {}
   },
   "outputs": [],
   "source": [
    "dataset_sales_series = dataset.pivot_table(index =['Store', 'Dept'], columns='Date', values='Weekly_Sales', fill_value=0).reset_index()"
   ]
  },
  {
   "cell_type": "heading",
   "metadata": {
    "id": "rzbEDy562wff",
    "colab_type": "text"
   },
   "level": 4,
   "source": [
    "Count the numbers of zero/missing values per row."
   ]
  },
  {
   "cell_type": "code",
   "execution_count": 0,
   "metadata": {
    "id": "_iyHWqC03LjU",
    "colab_type": "code",
    "colab": {}
   },
   "outputs": [],
   "source": [
    "dataset_sales_series['Number of missing values'] = (dataset_sales_series == 0).astype(int).sum(axis=1)"
   ]
  },
  {
   "cell_type": "heading",
   "metadata": {
    "id": "Ok03IwU1_mGa",
    "colab_type": "text"
   },
   "level": 4,
   "source": [
    "Delete all the rows, which have more then 10 % of missing values. (>5)"
   ]
  },
  {
   "cell_type": "code",
   "execution_count": 0,
   "metadata": {
    "id": "BvVXRMWA_4xK",
    "colab_type": "code",
    "outputId": "0d5eedc5-d926-4d26-bc35-71c5f66bc214",
    "executionInfo": {
     "status": "ok",
     "timestamp": 1.560848126916E12,
     "user_tz": -120.0,
     "elapsed": 3159.0,
     "user": {
      "displayName": "Jay Key",
      "photoUrl": "",
      "userId": "13340831650464398294"
     }
    },
    "colab": {
     "base_uri": "https://localhost:8080/",
     "height": 320.0
    }
   },
   "outputs": [
    {
     "data": {
      "text/html": [
       "<div>\n",
       "<style scoped>\n",
       "    .dataframe tbody tr th:only-of-type {\n",
       "        vertical-align: middle;\n",
       "    }\n",
       "\n",
       "    .dataframe tbody tr th {\n",
       "        vertical-align: top;\n",
       "    }\n",
       "\n",
       "    .dataframe thead th {\n",
       "        text-align: right;\n",
       "    }\n",
       "</style>\n",
       "<table border=\"1\" class=\"dataframe\">\n",
       "  <thead>\n",
       "    <tr style=\"text-align: right;\">\n",
       "      <th>Date</th>\n",
       "      <th>Store</th>\n",
       "      <th>Dept</th>\n",
       "      <th>2011-10-21</th>\n",
       "      <th>2011-10-28</th>\n",
       "      <th>2011-11-04</th>\n",
       "      <th>2011-11-11</th>\n",
       "      <th>2011-11-18</th>\n",
       "      <th>2011-11-25</th>\n",
       "      <th>...</th>\n",
       "      <th>2012-09-07</th>\n",
       "      <th>2012-09-14</th>\n",
       "      <th>2012-09-21</th>\n",
       "      <th>2012-09-28</th>\n",
       "      <th>2012-10-05</th>\n",
       "      <th>2012-10-12</th>\n",
       "      <th>2012-10-19</th>\n",
       "      <th>2012-10-26</th>\n",
       "    </tr>\n",
       "  </thead>\n",
       "  <tbody>\n",
       "    <tr>\n",
       "      <th>0</th>\n",
       "      <td>1</td>\n",
       "      <td>1</td>\n",
       "      <td>23351.8000</td>\n",
       "      <td>31579.9000</td>\n",
       "      <td>39886.0600</td>\n",
       "      <td>18689.5400</td>\n",
       "      <td>19050.6600</td>\n",
       "      <td>20911.2500</td>\n",
       "      <td>...</td>\n",
       "      <td>18322.3700</td>\n",
       "      <td>19616.2200</td>\n",
       "      <td>19251.5000</td>\n",
       "      <td>18947.8100</td>\n",
       "      <td>21904.4700</td>\n",
       "      <td>22764.0100</td>\n",
       "      <td>24185.2700</td>\n",
       "      <td>27390.8100</td>\n",
       "    </tr>\n",
       "    <tr>\n",
       "      <th>1</th>\n",
       "      <td>1</td>\n",
       "      <td>2</td>\n",
       "      <td>42487.6700</td>\n",
       "      <td>41682.4000</td>\n",
       "      <td>47313.6200</td>\n",
       "      <td>44936.4700</td>\n",
       "      <td>43997.7800</td>\n",
       "      <td>44259.5900</td>\n",
       "      <td>...</td>\n",
       "      <td>47344.5000</td>\n",
       "      <td>44493.6100</td>\n",
       "      <td>43541.0700</td>\n",
       "      <td>45784.7600</td>\n",
       "      <td>48577.0800</td>\n",
       "      <td>42112.6700</td>\n",
       "      <td>42354.7200</td>\n",
       "      <td>43134.8800</td>\n",
       "    </tr>\n",
       "    <tr>\n",
       "      <th>2</th>\n",
       "      <td>1</td>\n",
       "      <td>3</td>\n",
       "      <td>10136.7800</td>\n",
       "      <td>9421.2000</td>\n",
       "      <td>9189.2000</td>\n",
       "      <td>9959.6400</td>\n",
       "      <td>10104.3600</td>\n",
       "      <td>9317.5600</td>\n",
       "      <td>...</td>\n",
       "      <td>18368.5100</td>\n",
       "      <td>14288.2200</td>\n",
       "      <td>13403.6300</td>\n",
       "      <td>13085.9500</td>\n",
       "      <td>11676.9800</td>\n",
       "      <td>10487.1700</td>\n",
       "      <td>8548.8700</td>\n",
       "      <td>9350.9000</td>\n",
       "    </tr>\n",
       "    <tr>\n",
       "      <th>3</th>\n",
       "      <td>1</td>\n",
       "      <td>4</td>\n",
       "      <td>33954.5500</td>\n",
       "      <td>34247.2600</td>\n",
       "      <td>39354.8400</td>\n",
       "      <td>36826.5200</td>\n",
       "      <td>37656.5800</td>\n",
       "      <td>46564.1400</td>\n",
       "      <td>...</td>\n",
       "      <td>39549.2700</td>\n",
       "      <td>35044.0600</td>\n",
       "      <td>34507.3400</td>\n",
       "      <td>34647.3300</td>\n",
       "      <td>39311.9300</td>\n",
       "      <td>35446.1800</td>\n",
       "      <td>35549.1900</td>\n",
       "      <td>36292.6000</td>\n",
       "    </tr>\n",
       "    <tr>\n",
       "      <th>4</th>\n",
       "      <td>1</td>\n",
       "      <td>5</td>\n",
       "      <td>32700.3400</td>\n",
       "      <td>26391.7900</td>\n",
       "      <td>31956.0700</td>\n",
       "      <td>31002.6500</td>\n",
       "      <td>27339.3700</td>\n",
       "      <td>79340.1500</td>\n",
       "      <td>...</td>\n",
       "      <td>18236.1500</td>\n",
       "      <td>19369.5200</td>\n",
       "      <td>25798.7800</td>\n",
       "      <td>22560.3900</td>\n",
       "      <td>25508.8100</td>\n",
       "      <td>20920.0300</td>\n",
       "      <td>20413.8300</td>\n",
       "      <td>25846.9400</td>\n",
       "    </tr>\n",
       "  </tbody>\n",
       "</table>\n",
       "<p>5 rows × 56 columns</p>\n",
       "</div>"
      ],
      "text/plain": [
       "Date  Store  Dept  2011-10-21  2011-10-28  2011-11-04  2011-11-11  2011-11-18  2011-11-25  ...  2012-09-07  2012-09-14  2012-09-21  2012-09-28  2012-10-05  2012-10-12  2012-10-19  2012-10-26\n",
       "0         1     1  23351.8000  31579.9000  39886.0600  18689.5400  19050.6600  20911.2500  ...  18322.3700  19616.2200  19251.5000  18947.8100  21904.4700  22764.0100  24185.2700  27390.8100\n",
       "1         1     2  42487.6700  41682.4000  47313.6200  44936.4700  43997.7800  44259.5900  ...  47344.5000  44493.6100  43541.0700  45784.7600  48577.0800  42112.6700  42354.7200  43134.8800\n",
       "2         1     3  10136.7800   9421.2000   9189.2000   9959.6400  10104.3600   9317.5600  ...  18368.5100  14288.2200  13403.6300  13085.9500  11676.9800  10487.1700   8548.8700   9350.9000\n",
       "3         1     4  33954.5500  34247.2600  39354.8400  36826.5200  37656.5800  46564.1400  ...  39549.2700  35044.0600  34507.3400  34647.3300  39311.9300  35446.1800  35549.1900  36292.6000\n",
       "4         1     5  32700.3400  26391.7900  31956.0700  31002.6500  27339.3700  79340.1500  ...  18236.1500  19369.5200  25798.7800  22560.3900  25508.8100  20920.0300  20413.8300  25846.9400\n",
       "\n",
       "[5 rows x 56 columns]"
      ]
     },
     "execution_count": 67,
     "metadata": {
      "tags": []
     },
     "output_type": "execute_result"
    }
   ],
   "source": [
    "dataset_sales_series = dataset_sales_series.loc[dataset_sales_series['Number of missing values'] <= 5]\n",
    "dataset_sales_series = dataset_sales_series.drop(columns='Number of missing values')\n",
    "dataset_sales_series.head()"
   ]
  },
  {
   "cell_type": "heading",
   "metadata": {
    "id": "zHc4zJnZXSj0",
    "colab_type": "text"
   },
   "level": 4,
   "source": [
    "Adding the other features to get a complete dataset to work with."
   ]
  },
  {
   "cell_type": "code",
   "execution_count": 0,
   "metadata": {
    "id": "XhpznU29XSbF",
    "colab_type": "code",
    "outputId": "bd27c4dc-0144-473f-e537-65380eb3153f",
    "executionInfo": {
     "status": "ok",
     "timestamp": 1.560848127353E12,
     "user_tz": -120.0,
     "elapsed": 3572.0,
     "user": {
      "displayName": "Jay Key",
      "photoUrl": "",
      "userId": "13340831650464398294"
     }
    },
    "colab": {
     "base_uri": "https://localhost:8080/",
     "height": 320.0
    }
   },
   "outputs": [
    {
     "data": {
      "text/html": [
       "<div>\n",
       "<style scoped>\n",
       "    .dataframe tbody tr th:only-of-type {\n",
       "        vertical-align: middle;\n",
       "    }\n",
       "\n",
       "    .dataframe tbody tr th {\n",
       "        vertical-align: top;\n",
       "    }\n",
       "\n",
       "    .dataframe thead th {\n",
       "        text-align: right;\n",
       "    }\n",
       "</style>\n",
       "<table border=\"1\" class=\"dataframe\">\n",
       "  <thead>\n",
       "    <tr style=\"text-align: right;\">\n",
       "      <th></th>\n",
       "      <th>Store</th>\n",
       "      <th>Dept</th>\n",
       "      <th>2011-10-21</th>\n",
       "      <th>2011-10-28</th>\n",
       "      <th>2011-11-04</th>\n",
       "      <th>2011-11-11</th>\n",
       "      <th>2011-11-18</th>\n",
       "      <th>2011-11-25</th>\n",
       "      <th>...</th>\n",
       "      <th>2012-09-21</th>\n",
       "      <th>2012-09-28</th>\n",
       "      <th>2012-10-05</th>\n",
       "      <th>2012-10-12</th>\n",
       "      <th>2012-10-19</th>\n",
       "      <th>2012-10-26</th>\n",
       "      <th>Type</th>\n",
       "      <th>Size</th>\n",
       "    </tr>\n",
       "  </thead>\n",
       "  <tbody>\n",
       "    <tr>\n",
       "      <th>0</th>\n",
       "      <td>1</td>\n",
       "      <td>1</td>\n",
       "      <td>23351.8000</td>\n",
       "      <td>31579.9000</td>\n",
       "      <td>39886.0600</td>\n",
       "      <td>18689.5400</td>\n",
       "      <td>19050.6600</td>\n",
       "      <td>20911.2500</td>\n",
       "      <td>...</td>\n",
       "      <td>19251.5000</td>\n",
       "      <td>18947.8100</td>\n",
       "      <td>21904.4700</td>\n",
       "      <td>22764.0100</td>\n",
       "      <td>24185.2700</td>\n",
       "      <td>27390.8100</td>\n",
       "      <td>0</td>\n",
       "      <td>151315</td>\n",
       "    </tr>\n",
       "    <tr>\n",
       "      <th>1</th>\n",
       "      <td>1</td>\n",
       "      <td>2</td>\n",
       "      <td>42487.6700</td>\n",
       "      <td>41682.4000</td>\n",
       "      <td>47313.6200</td>\n",
       "      <td>44936.4700</td>\n",
       "      <td>43997.7800</td>\n",
       "      <td>44259.5900</td>\n",
       "      <td>...</td>\n",
       "      <td>43541.0700</td>\n",
       "      <td>45784.7600</td>\n",
       "      <td>48577.0800</td>\n",
       "      <td>42112.6700</td>\n",
       "      <td>42354.7200</td>\n",
       "      <td>43134.8800</td>\n",
       "      <td>0</td>\n",
       "      <td>151315</td>\n",
       "    </tr>\n",
       "    <tr>\n",
       "      <th>2</th>\n",
       "      <td>1</td>\n",
       "      <td>3</td>\n",
       "      <td>10136.7800</td>\n",
       "      <td>9421.2000</td>\n",
       "      <td>9189.2000</td>\n",
       "      <td>9959.6400</td>\n",
       "      <td>10104.3600</td>\n",
       "      <td>9317.5600</td>\n",
       "      <td>...</td>\n",
       "      <td>13403.6300</td>\n",
       "      <td>13085.9500</td>\n",
       "      <td>11676.9800</td>\n",
       "      <td>10487.1700</td>\n",
       "      <td>8548.8700</td>\n",
       "      <td>9350.9000</td>\n",
       "      <td>0</td>\n",
       "      <td>151315</td>\n",
       "    </tr>\n",
       "    <tr>\n",
       "      <th>3</th>\n",
       "      <td>1</td>\n",
       "      <td>4</td>\n",
       "      <td>33954.5500</td>\n",
       "      <td>34247.2600</td>\n",
       "      <td>39354.8400</td>\n",
       "      <td>36826.5200</td>\n",
       "      <td>37656.5800</td>\n",
       "      <td>46564.1400</td>\n",
       "      <td>...</td>\n",
       "      <td>34507.3400</td>\n",
       "      <td>34647.3300</td>\n",
       "      <td>39311.9300</td>\n",
       "      <td>35446.1800</td>\n",
       "      <td>35549.1900</td>\n",
       "      <td>36292.6000</td>\n",
       "      <td>0</td>\n",
       "      <td>151315</td>\n",
       "    </tr>\n",
       "    <tr>\n",
       "      <th>4</th>\n",
       "      <td>1</td>\n",
       "      <td>5</td>\n",
       "      <td>32700.3400</td>\n",
       "      <td>26391.7900</td>\n",
       "      <td>31956.0700</td>\n",
       "      <td>31002.6500</td>\n",
       "      <td>27339.3700</td>\n",
       "      <td>79340.1500</td>\n",
       "      <td>...</td>\n",
       "      <td>25798.7800</td>\n",
       "      <td>22560.3900</td>\n",
       "      <td>25508.8100</td>\n",
       "      <td>20920.0300</td>\n",
       "      <td>20413.8300</td>\n",
       "      <td>25846.9400</td>\n",
       "      <td>0</td>\n",
       "      <td>151315</td>\n",
       "    </tr>\n",
       "  </tbody>\n",
       "</table>\n",
       "<p>5 rows × 58 columns</p>\n",
       "</div>"
      ],
      "text/plain": [
       "   Store  Dept  2011-10-21  2011-10-28  2011-11-04  2011-11-11  2011-11-18  2011-11-25  ...  2012-09-21  2012-09-28  2012-10-05  2012-10-12  2012-10-19  2012-10-26  Type    Size\n",
       "0      1     1  23351.8000  31579.9000  39886.0600  18689.5400  19050.6600  20911.2500  ...  19251.5000  18947.8100  21904.4700  22764.0100  24185.2700  27390.8100     0  151315\n",
       "1      1     2  42487.6700  41682.4000  47313.6200  44936.4700  43997.7800  44259.5900  ...  43541.0700  45784.7600  48577.0800  42112.6700  42354.7200  43134.8800     0  151315\n",
       "2      1     3  10136.7800   9421.2000   9189.2000   9959.6400  10104.3600   9317.5600  ...  13403.6300  13085.9500  11676.9800  10487.1700   8548.8700   9350.9000     0  151315\n",
       "3      1     4  33954.5500  34247.2600  39354.8400  36826.5200  37656.5800  46564.1400  ...  34507.3400  34647.3300  39311.9300  35446.1800  35549.1900  36292.6000     0  151315\n",
       "4      1     5  32700.3400  26391.7900  31956.0700  31002.6500  27339.3700  79340.1500  ...  25798.7800  22560.3900  25508.8100  20920.0300  20413.8300  25846.9400     0  151315\n",
       "\n",
       "[5 rows x 58 columns]"
      ]
     },
     "execution_count": 68,
     "metadata": {
      "tags": []
     },
     "output_type": "execute_result"
    }
   ],
   "source": [
    "dataset_series_total = dataset_sales_series.merge(stores, how='left')\n",
    "\n",
    "cat_col = ['Type']\n",
    "for col in cat_col:\n",
    "    encoder = preprocessing.LabelEncoder()\n",
    "    encoder.fit(dataset_series_total[col].values.astype('str'))\n",
    "    dataset_series_total[col] = encoder.transform(dataset_series_total[col].values.astype('str'))\n",
    "    \n",
    "dataset_series_total.head()"
   ]
  },
  {
   "cell_type": "heading",
   "metadata": {
    "id": "p5XZjgBfXnxA",
    "colab_type": "text"
   },
   "level": 3,
   "source": [
    "### Creating Trainings- and Validation-Set"
   ]
  },
  {
   "cell_type": "code",
   "execution_count": 0,
   "metadata": {
    "id": "lFfTf53qiK7l",
    "colab_type": "code",
    "outputId": "984a91ee-1582-4df1-a715-289063e39f54",
    "executionInfo": {
     "status": "ok",
     "timestamp": 1.560848127355E12,
     "user_tz": -120.0,
     "elapsed": 3549.0,
     "user": {
      "displayName": "Jay Key",
      "photoUrl": "",
      "userId": "13340831650464398294"
     }
    },
    "colab": {
     "base_uri": "https://localhost:8080/",
     "height": 260.0
    }
   },
   "outputs": [
    {
     "name": "stdout",
     "output_type": "stream",
     "text": [
      "X_train_df: \n",
      " \n",
      "       2011-10-21  2011-10-28  2011-11-04  2011-11-11  2011-11-18  2011-11-25  2011-12-02  2011-12-09  ...  2012-08-31  2012-09-07  2012-09-14  2012-09-21  2012-09-28  2012-10-05  2012-10-12  2012-10-19\n",
      "1244  22189.7400  21685.9100  23132.2100  23049.4200  22196.5900  18596.7400  20159.7800  23034.8200  ...  21214.5100  23350.2800  21684.7200  21343.9700  20359.4600  22551.9600  21909.9100  20174.7500\n",
      "768     243.0600    185.8800    279.1100    416.3800    413.7100    274.7200    366.3400    468.2900  ...    349.7800    221.9100      0.0000     71.0000     71.0600    246.5500    101.7500    141.2100\n",
      "1010   8455.8500   7579.0600   8484.0300  10362.8300   8184.8100  12812.3100   9020.5000  11484.5800  ...   7874.9800      0.0000   7266.0900   7484.7200   7002.9200   8113.7700   8680.7700   9075.7300\n",
      "2686   3723.3000   3111.5100   2832.6500   3536.0700   3909.7600   2765.7100   3842.4100   4227.5000  ...   3429.0000   4604.0900   4368.1800   3929.6800   3566.5100   4096.3400   5313.8600   4384.1400\n",
      "1397   3741.8500   3963.6100   4697.0100   4164.1400   3901.5400  21064.3300   4917.2100   6778.1100  ...   3911.0700   1955.2100   4075.7600   2697.1600   4264.5300   3408.1600   1091.7700   2914.4200\n",
      "\n",
      "[5 rows x 53 columns]\n"
     ]
    }
   ],
   "source": [
    "X_df = dataset_series_total.drop(columns=['Store', dt.date(2012,10,26)])\n",
    "Y_df = dataset_series_total[[dt.date(2012,10,26)]]\n",
    "\n",
    "train_df, valid_df, Y_train_df, Y_valid_df = train_test_split(X_df,Y_df, test_size=0.1, random_state=0)\n",
    "\n",
    "X_train_df = train_df.drop(columns=['Dept','Type','Size'])\n",
    "X_valid_df = valid_df.drop(columns=['Dept','Type','Size'])\n",
    "\n",
    "print('X_train_df:','\\n','\\n', X_train_df.head(),)"
   ]
  },
  {
   "cell_type": "heading",
   "metadata": {
    "id": "zp3x7B7wHqw8",
    "colab_type": "text"
   },
   "level": 2,
   "source": [
    "##  LSTM "
   ]
  },
  {
   "cell_type": "heading",
   "metadata": {
    "id": "LvTboPgGHvNI",
    "colab_type": "text"
   },
   "level": 3,
   "source": [
    "### Preprocessing"
   ]
  },
  {
   "cell_type": "heading",
   "metadata": {
    "id": "9xRCTcKoYINa",
    "colab_type": "text"
   },
   "level": 4,
   "source": [
    "#### Scaling"
   ]
  },
  {
   "cell_type": "code",
   "execution_count": 0,
   "metadata": {
    "id": "45HfIpSlYK0d",
    "colab_type": "code",
    "colab": {}
   },
   "outputs": [],
   "source": [
    "scaler = MinMaxScaler()\n",
    "X_train_np = scaler.fit_transform(np.array(X_train_df))\n",
    "X_valid_np = scaler.transform(np.array(X_valid_df))"
   ]
  },
  {
   "cell_type": "heading",
   "metadata": {
    "id": "gDWMrfcjy2a0",
    "colab_type": "text"
   },
   "level": 4,
   "source": [
    "#### Shaping"
   ]
  },
  {
   "cell_type": "code",
   "execution_count": 0,
   "metadata": {
    "id": "WTNrgC1IrqKG",
    "colab_type": "code",
    "outputId": "2c9c2912-a06d-4e68-ddf9-ff99b30eb2ca",
    "executionInfo": {
     "status": "ok",
     "timestamp": 1.56084812736E12,
     "user_tz": -120.0,
     "elapsed": 3528.0,
     "user": {
      "displayName": "Jay Key",
      "photoUrl": "",
      "userId": "13340831650464398294"
     }
    },
    "colab": {
     "base_uri": "https://localhost:8080/",
     "height": 133.0
    }
   },
   "outputs": [
    {
     "name": "stdout",
     "output_type": "stream",
     "text": [
      "(2525, 53, 1)\n",
      "(281, 53, 1)\n"
     ]
    }
   ],
   "source": [
    "X_train_lstm = X_train_np.reshape((X_train_np.shape[0], X_train_np.shape[1],1))\n",
    "X_valid_lstm = X_valid_np.reshape((X_valid_np.shape[0], X_valid_np.shape[1],1))\n",
    "\n",
    "print(X_train_lstm.shape)\n",
    "print(X_valid_lstm.shape)"
   ]
  },
  {
   "cell_type": "heading",
   "metadata": {
    "id": "yptrkdd_T0zn",
    "colab_type": "text"
   },
   "level": 3,
   "source": [
    "### Autoencoder Model"
   ]
  },
  {
   "cell_type": "code",
   "execution_count": 0,
   "metadata": {
    "id": "IzlobtHHf8zr",
    "colab_type": "code",
    "colab": {}
   },
   "outputs": [],
   "source": [
    "serie_size =  X_train_lstm.shape[1]\n",
    "n_features =  X_train_lstm.shape[2] \n",
    "\n",
    "epochs = 5\n",
    "batch = 128\n",
    "lr = 0.0001"
   ]
  },
  {
   "cell_type": "code",
   "execution_count": 0,
   "metadata": {
    "id": "OkHUlIiDT-Ao",
    "colab_type": "code",
    "outputId": "8a3d1934-d30f-42a0-9412-c002611e5e7f",
    "executionInfo": {
     "status": "ok",
     "timestamp": 1.560848128491E12,
     "user_tz": -120.0,
     "elapsed": 4635.0,
     "user": {
      "displayName": "Jay Key",
      "photoUrl": "",
      "userId": "13340831650464398294"
     }
    },
    "colab": {
     "base_uri": "https://localhost:8080/",
     "height": 446.0
    }
   },
   "outputs": [
    {
     "name": "stdout",
     "output_type": "stream",
     "text": [
      "_________________________________________________________________\n",
      "Layer (type)                 Output Shape              Param #   \n",
      "=================================================================\n",
      "lstm_11 (LSTM)               (None, 53, 53)            11660     \n",
      "_________________________________________________________________\n",
      "lstm_12 (LSTM)               (None, 53, 10)            2560      \n",
      "_________________________________________________________________\n",
      "lstm_13 (LSTM)               (None, 1)                 48        \n",
      "_________________________________________________________________\n",
      "repeat_vector_3 (RepeatVecto (None, 53, 1)             0         \n",
      "_________________________________________________________________\n",
      "lstm_14 (LSTM)               (None, 53, 53)            11660     \n",
      "_________________________________________________________________\n",
      "lstm_15 (LSTM)               (None, 53, 10)            2560      \n",
      "_________________________________________________________________\n",
      "time_distributed_3 (TimeDist (None, 53, 1)             11        \n",
      "=================================================================\n",
      "Total params: 28,499\n",
      "Trainable params: 28,499\n",
      "Non-trainable params: 0\n",
      "_________________________________________________________________\n"
     ]
    }
   ],
   "source": [
    "encoder_decoder = Sequential()\n",
    "encoder_decoder.add(LSTM(serie_size, activation='relu', input_shape=(serie_size, n_features), return_sequences=True))\n",
    "encoder_decoder.add(LSTM(10, activation='relu', return_sequences=True))\n",
    "encoder_decoder.add(LSTM(1, activation='relu'))\n",
    "encoder_decoder.add(RepeatVector(serie_size))\n",
    "encoder_decoder.add(LSTM(serie_size, activation='relu', return_sequences=True))\n",
    "encoder_decoder.add(LSTM(10, activation='relu', return_sequences=True))\n",
    "encoder_decoder.add(TimeDistributed(Dense(1)))\n",
    "encoder_decoder.summary()\n",
    "\n",
    "adam = optimizers.Adam(lr)\n",
    "encoder_decoder.compile(loss='mse', optimizer=adam)"
   ]
  },
  {
   "cell_type": "code",
   "execution_count": 0,
   "metadata": {
    "id": "irIHJimFfv8j",
    "colab_type": "code",
    "outputId": "2527f79c-a647-49ab-b283-69b1c2b67497",
    "executionInfo": {
     "status": "ok",
     "timestamp": 1.560848174307E12,
     "user_tz": -120.0,
     "elapsed": 50433.0,
     "user": {
      "displayName": "Jay Key",
      "photoUrl": "",
      "userId": "13340831650464398294"
     }
    },
    "colab": {
     "base_uri": "https://localhost:8080/",
     "height": 314.0
    }
   },
   "outputs": [
    {
     "name": "stdout",
     "output_type": "stream",
     "text": [
      "Epoch 1/5\n",
      " - 11s - loss: 0.0229\n",
      "Epoch 2/5\n",
      " - 8s - loss: 0.0216\n",
      "Epoch 3/5\n",
      " - 8s - loss: 0.0203\n",
      "Epoch 4/5\n",
      " - 8s - loss: 0.0189\n",
      "Epoch 5/5\n",
      " - 8s - loss: 0.0176\n"
     ]
    }
   ],
   "source": [
    "encoder_decoder_history = encoder_decoder.fit(X_train_lstm, X_train_lstm, epochs=epochs, batch_size=batch, verbose=2)"
   ]
  },
  {
   "cell_type": "heading",
   "metadata": {
    "id": "TS--_DPxlz6p",
    "colab_type": "text"
   },
   "level": 3,
   "source": [
    "### Encoder Model"
   ]
  },
  {
   "cell_type": "heading",
   "metadata": {
    "id": "1HFCfT4Cl7ty",
    "colab_type": "text"
   },
   "level": 4,
   "source": [
    "Only taking the encoding part of the Autoencoder"
   ]
  },
  {
   "cell_type": "code",
   "execution_count": 0,
   "metadata": {
    "id": "t4LiT8Lnl493",
    "colab_type": "code",
    "colab": {}
   },
   "outputs": [],
   "source": [
    "encoder = Model(inputs=encoder_decoder.inputs, outputs=encoder_decoder.layers[2].output)\n",
    "plot_model(encoder_decoder, show_shapes=True, to_file='/content/gdrive/My Drive/Colab Notebooks/Business_Analytics/encoder_decoder_reconstruct_lstm.png')\n",
    "plot_model(encoder, show_shapes=True, to_file='/content/gdrive/My Drive/Colab Notebooks/Business_Analytics/encoder_lstm.png')"
   ]
  },
  {
   "cell_type": "heading",
   "metadata": {
    "id": "TNS1Fmlzmo2Y",
    "colab_type": "text"
   },
   "level": 4,
   "source": [
    "Encode the time-series of the train set "
   ]
  },
  {
   "cell_type": "code",
   "execution_count": 0,
   "metadata": {
    "id": "nc5b7jndmxBk",
    "colab_type": "code",
    "outputId": "d54ea6a9-e177-4404-bd3e-2ea3fb516981",
    "executionInfo": {
     "status": "ok",
     "timestamp": 1.560848184351E12,
     "user_tz": -120.0,
     "elapsed": 60445.0,
     "user": {
      "displayName": "Jay Key",
      "photoUrl": "",
      "userId": "13340831650464398294"
     }
    },
    "colab": {
     "base_uri": "https://localhost:8080/",
     "height": 134.0
    }
   },
   "outputs": [
    {
     "name": "stdout",
     "output_type": "stream",
     "text": [
      "Encoded time-series shape (2525, 1)\n"
     ]
    }
   ],
   "source": [
    "X_train_encoded = encoder.predict(X_train_lstm)\n",
    "X_valid_encoded = encoder.predict(X_valid_lstm)\n",
    "print('Encoded time-series shape', X_train_encoded.shape)\n",
    "\n",
    "# print('Encoded time-series sample:')\n",
    "# for i in range(10): \n",
    "#   print(X_train_encoded[i])"
   ]
  },
  {
   "cell_type": "heading",
   "metadata": {
    "id": "DByktY660Wje",
    "colab_type": "text"
   },
   "level": 4,
   "source": [
    "Create new Dataset for basic Regressor by stacking the encoded feature together with the current sales, the department number, the store size and the store type."
   ]
  },
  {
   "cell_type": "code",
   "execution_count": 0,
   "metadata": {
    "id": "L4Sg8Hwl4Jmn",
    "colab_type": "code",
    "outputId": "9accd4bb-5a4a-40b3-8f23-5010c9062355",
    "executionInfo": {
     "status": "ok",
     "timestamp": 1.560848184353E12,
     "user_tz": -120.0,
     "elapsed": 60434.0,
     "user": {
      "displayName": "Jay Key",
      "photoUrl": "",
      "userId": "13340831650464398294"
     }
    },
    "colab": {
     "base_uri": "https://localhost:8080/",
     "height": 373.0
    }
   },
   "outputs": [
    {
     "data": {
      "text/html": [
       "<div>\n",
       "<style scoped>\n",
       "    .dataframe tbody tr th:only-of-type {\n",
       "        vertical-align: middle;\n",
       "    }\n",
       "\n",
       "    .dataframe tbody tr th {\n",
       "        vertical-align: top;\n",
       "    }\n",
       "\n",
       "    .dataframe thead th {\n",
       "        text-align: right;\n",
       "    }\n",
       "</style>\n",
       "<table border=\"1\" class=\"dataframe\">\n",
       "  <thead>\n",
       "    <tr style=\"text-align: right;\">\n",
       "      <th></th>\n",
       "      <th>2012-10-19</th>\n",
       "      <th>Encoded</th>\n",
       "      <th>Dept</th>\n",
       "      <th>Type</th>\n",
       "      <th>Size</th>\n",
       "    </tr>\n",
       "  </thead>\n",
       "  <tbody>\n",
       "    <tr>\n",
       "      <th>count</th>\n",
       "      <td>2525.0000</td>\n",
       "      <td>2525.0000</td>\n",
       "      <td>2525.0000</td>\n",
       "      <td>2525.0000</td>\n",
       "      <td>2525.0000</td>\n",
       "    </tr>\n",
       "    <tr>\n",
       "      <th>mean</th>\n",
       "      <td>15836.4286</td>\n",
       "      <td>0.0312</td>\n",
       "      <td>44.4107</td>\n",
       "      <td>0.5830</td>\n",
       "      <td>137636.5850</td>\n",
       "    </tr>\n",
       "    <tr>\n",
       "      <th>std</th>\n",
       "      <td>21434.9465</td>\n",
       "      <td>0.0083</td>\n",
       "      <td>30.8884</td>\n",
       "      <td>0.6631</td>\n",
       "      <td>60570.7549</td>\n",
       "    </tr>\n",
       "    <tr>\n",
       "      <th>min</th>\n",
       "      <td>0.0000</td>\n",
       "      <td>0.0229</td>\n",
       "      <td>1.0000</td>\n",
       "      <td>0.0000</td>\n",
       "      <td>34875.0000</td>\n",
       "    </tr>\n",
       "    <tr>\n",
       "      <th>25%</th>\n",
       "      <td>2436.5100</td>\n",
       "      <td>0.0247</td>\n",
       "      <td>17.0000</td>\n",
       "      <td>0.0000</td>\n",
       "      <td>93638.0000</td>\n",
       "    </tr>\n",
       "    <tr>\n",
       "      <th>50%</th>\n",
       "      <td>7936.5200</td>\n",
       "      <td>0.0285</td>\n",
       "      <td>37.0000</td>\n",
       "      <td>0.0000</td>\n",
       "      <td>140167.0000</td>\n",
       "    </tr>\n",
       "    <tr>\n",
       "      <th>75%</th>\n",
       "      <td>19936.2400</td>\n",
       "      <td>0.0354</td>\n",
       "      <td>74.0000</td>\n",
       "      <td>1.0000</td>\n",
       "      <td>202505.0000</td>\n",
       "    </tr>\n",
       "    <tr>\n",
       "      <th>max</th>\n",
       "      <td>177406.7500</td>\n",
       "      <td>0.0782</td>\n",
       "      <td>98.0000</td>\n",
       "      <td>2.0000</td>\n",
       "      <td>219622.0000</td>\n",
       "    </tr>\n",
       "  </tbody>\n",
       "</table>\n",
       "</div>"
      ],
      "text/plain": [
       "       2012-10-19   Encoded      Dept      Type        Size\n",
       "count   2525.0000 2525.0000 2525.0000 2525.0000   2525.0000\n",
       "mean   15836.4286    0.0312   44.4107    0.5830 137636.5850\n",
       "std    21434.9465    0.0083   30.8884    0.6631  60570.7549\n",
       "min        0.0000    0.0229    1.0000    0.0000  34875.0000\n",
       "25%     2436.5100    0.0247   17.0000    0.0000  93638.0000\n",
       "50%     7936.5200    0.0285   37.0000    0.0000 140167.0000\n",
       "75%    19936.2400    0.0354   74.0000    1.0000 202505.0000\n",
       "max   177406.7500    0.0782   98.0000    2.0000 219622.0000"
      ]
     },
     "execution_count": 77,
     "metadata": {
      "tags": []
     },
     "output_type": "execute_result"
    }
   ],
   "source": [
    "train_df['Encoded'] = X_train_encoded\n",
    "train_df['Label'] = Y_train_df\n",
    "\n",
    "valid_df['Encoded'] = X_valid_encoded\n",
    "valid_df['Label'] = Y_valid_df\n",
    "\n",
    "X_train_basic = train_df[[dt.date(2012,10,19), 'Encoded','Dept', 'Type', 'Size']]\n",
    "X_valid_basic = valid_df[[dt.date(2012,10,19), 'Encoded','Dept', 'Type', 'Size']]\n",
    "\n",
    "Y_train_basic = train_df['Label']\n",
    "Y_valid_basic = valid_df['Label']\n",
    "\n",
    "X_train_basic.describe()"
   ]
  },
  {
   "cell_type": "heading",
   "metadata": {
    "id": "_jsa5DGIYYa1",
    "colab_type": "text"
   },
   "level": 2,
   "source": [
    "## Random Forest Regressor"
   ]
  },
  {
   "cell_type": "heading",
   "metadata": {
    "id": "OC0gp8r1_RT0",
    "colab_type": "text"
   },
   "level": 3,
   "source": [
    "### Preprocessing"
   ]
  },
  {
   "cell_type": "markdown",
   "metadata": {
    "id": "-8yWq-ONAC2t",
    "colab_type": "text"
   },
   "source": [
    "Create Numpy-Array"
   ]
  },
  {
   "cell_type": "code",
   "execution_count": 0,
   "metadata": {
    "id": "X1W_whA1AFE2",
    "colab_type": "code",
    "colab": {}
   },
   "outputs": [],
   "source": [
    "X_train_basic_np = np.array(X_train_basic)\n",
    "X_valid_basic_np = np.array(X_valid_basic)\n",
    "\n",
    "Y_train_basic_np = np.array(Y_train_basic)\n",
    "Y_valid_basic_np = np.array(Y_valid_basic)"
   ]
  },
  {
   "cell_type": "heading",
   "metadata": {
    "id": "bhjMBVJ0Z3zI",
    "colab_type": "text"
   },
   "level": 3,
   "source": [
    "### Set up"
   ]
  },
  {
   "cell_type": "code",
   "execution_count": 0,
   "metadata": {
    "id": "DYyso355Z6bA",
    "colab_type": "code",
    "colab": {}
   },
   "outputs": [],
   "source": [
    "RFR_basic = RandomForestRegressor(n_estimators=100,max_features=2, verbose=0, n_jobs=-1)"
   ]
  },
  {
   "cell_type": "heading",
   "metadata": {
    "id": "HHRaeQHZZ7GS",
    "colab_type": "text"
   },
   "level": 3,
   "source": [
    "### Train"
   ]
  },
  {
   "cell_type": "code",
   "execution_count": 0,
   "metadata": {
    "id": "dWMZWK98W6m5",
    "colab_type": "code",
    "outputId": "487152ea-07ec-4b41-87e1-7083d6357a36",
    "executionInfo": {
     "status": "ok",
     "timestamp": 1.560848185181E12,
     "user_tz": -120.0,
     "elapsed": 61224.0,
     "user": {
      "displayName": "Jay Key",
      "photoUrl": "",
      "userId": "13340831650464398294"
     }
    },
    "colab": {
     "base_uri": "https://localhost:8080/",
     "height": 213.0
    }
   },
   "outputs": [
    {
     "data": {
      "text/plain": [
       "RandomForestRegressor(bootstrap=True, criterion='mse', max_depth=None,\n",
       "                      max_features=2, max_leaf_nodes=None,\n",
       "                      min_impurity_decrease=0.0, min_impurity_split=None,\n",
       "                      min_samples_leaf=1, min_samples_split=2,\n",
       "                      min_weight_fraction_leaf=0.0, n_estimators=100, n_jobs=-1,\n",
       "                      oob_score=False, random_state=None, verbose=0,\n",
       "                      warm_start=False)"
      ]
     },
     "execution_count": 80,
     "metadata": {
      "tags": []
     },
     "output_type": "execute_result"
    }
   ],
   "source": [
    "RFR_basic.fit(X_train_basic_np, Y_train_basic_np)"
   ]
  },
  {
   "cell_type": "heading",
   "metadata": {
    "id": "KhaoZ4Td4DP6",
    "colab_type": "text"
   },
   "level": 3,
   "source": [
    "### Validation"
   ]
  },
  {
   "cell_type": "code",
   "execution_count": 0,
   "metadata": {
    "id": "5xTg9ONG4EZu",
    "colab_type": "code",
    "outputId": "b1be1fa3-37df-40e8-ac99-804267cd1aa4",
    "executionInfo": {
     "status": "ok",
     "timestamp": 1.560848185184E12,
     "user_tz": -120.0,
     "elapsed": 61215.0,
     "user": {
      "displayName": "Jay Key",
      "photoUrl": "",
      "userId": "13340831650464398294"
     }
    },
    "colab": {
     "base_uri": "https://localhost:8080/",
     "height": 200.0
    }
   },
   "outputs": [
    {
     "name": "stdout",
     "output_type": "stream",
     "text": [
      "Mean absolute Error: 1659.11 \n",
      "\n",
      "Feature Importance: \n",
      " \n",
      "    Current Sales  Past Sales   Dept   Type   Size\n",
      "0         0.4911      0.4349 0.0505 0.0020 0.0216\n"
     ]
    }
   ],
   "source": [
    "Y_predict = RFR_basic.predict(X_valid_basic_np)\n",
    "print(\"Mean absolute Error:\", np.round(mean_absolute_error(Y_valid_basic_np,Y_predict),2),'\\n')\n",
    "\n",
    "feat_importance = pd.DataFrame(RFR_basic.feature_importances_.reshape(1,5), columns=['Current Sales','Past Sales','Dept', 'Type', 'Size'])\n",
    "\n",
    "print('Feature Importance:','\\n','\\n',feat_importance)"
   ]
  },
  {
   "cell_type": "heading",
   "metadata": {
    "id": "xiYAexyBp06J",
    "colab_type": "text"
   },
   "level": 2,
   "source": [
    "## Baseline Model"
   ]
  },
  {
   "cell_type": "heading",
   "metadata": {
    "id": "iUQb9htpqJVN",
    "colab_type": "text"
   },
   "level": 5,
   "source": [
    "For this regressor, we only use the current sales to predict the sales of the next week."
   ]
  },
  {
   "cell_type": "heading",
   "metadata": {
    "id": "gFVVA6q4sFqD",
    "colab_type": "text"
   },
   "level": 3,
   "source": [
    "### Preprocessing"
   ]
  },
  {
   "cell_type": "code",
   "execution_count": 0,
   "metadata": {
    "id": "-CG76D8IrO1g",
    "colab_type": "code",
    "colab": {}
   },
   "outputs": [],
   "source": [
    "X_train_baseline = train_df[[dt.date(2012,10,19)]]\n",
    "Y_train_baseline = train_df['Label']\n",
    "\n",
    "X_valid_baseline = valid_df[[dt.date(2012,10,19)]]\n",
    "Y_valid_baseline = valid_df['Label']\n",
    "\n",
    "X_train_baseline_np = scaler.fit_transform(np.array(X_train_baseline))\n",
    "X_valid_baseline_np = scaler.transform(np.array(X_valid_baseline))\n",
    "\n",
    "Y_train_baseline_np = np.array(Y_train_baseline)\n",
    "Y_valid_baseline_np = np.array(Y_valid_baseline)"
   ]
  },
  {
   "cell_type": "heading",
   "metadata": {
    "id": "Tk_O8lXSsHeK",
    "colab_type": "text"
   },
   "level": 3,
   "source": [
    "### Modeling"
   ]
  },
  {
   "cell_type": "code",
   "execution_count": 0,
   "metadata": {
    "id": "Q6KWgeE1myPx",
    "colab_type": "code",
    "outputId": "b30a993f-949b-4a5c-96a9-29c384974fac",
    "executionInfo": {
     "status": "ok",
     "timestamp": 1.560848185191E12,
     "user_tz": -120.0,
     "elapsed": 61193.0,
     "user": {
      "displayName": "Jay Key",
      "photoUrl": "",
      "userId": "13340831650464398294"
     }
    },
    "colab": {
     "base_uri": "https://localhost:8080/",
     "height": 133.0
    }
   },
   "outputs": [
    {
     "name": "stdout",
     "output_type": "stream",
     "text": [
      "Mean absolute Error: 2079.82 \n",
      "\n"
     ]
    }
   ],
   "source": [
    "RFR_basic = RandomForestRegressor(n_estimators=100,max_features=1, verbose=0, n_jobs=-1)\n",
    "\n",
    "RFR_basic.fit(X_train_baseline_np, Y_train_baseline_np)\n",
    "\n",
    "Y_predict = RFR_basic.predict(X_valid_baseline_np)\n",
    "\n",
    "print(\"Mean absolute Error:\", np.round(mean_absolute_error(Y_valid_baseline_np,Y_predict),2),'\\n')"
   ]
  }
 ],
 "metadata": {
  "colab": {
   "name": "Business_Analytics_Models_Final.ipynb",
   "version": "0.3.2",
   "provenance": [
    {
     "file_id": "1CEHmakixoEwRA07TeMp-vuHGqxIewgL5",
     "timestamp": 1.560694607912E12
    }
   ],
   "collapsed_sections": [],
   "toc_visible": true
  },
  "kernelspec": {
   "name": "python3",
   "display_name": "Python 3"
  },
  "accelerator": "GPU"
 },
 "nbformat": 4,
 "nbformat_minor": 0
}
